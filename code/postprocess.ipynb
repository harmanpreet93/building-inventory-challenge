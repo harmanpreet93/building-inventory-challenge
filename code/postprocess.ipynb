{
 "cells": [
  {
   "cell_type": "code",
   "execution_count": 64,
   "metadata": {},
   "outputs": [],
   "source": [
    "import pandas as pd\n",
    "from collections import Counter\n",
    "%matplotlib inline"
   ]
  },
  {
   "cell_type": "code",
   "execution_count": 144,
   "metadata": {},
   "outputs": [],
   "source": [
    "df_1 = pd.read_csv('data_clean_1.csv')\n",
    "df_2 = pd.read_csv(\"data_clean.csv\")"
   ]
  },
  {
   "cell_type": "code",
   "execution_count": 142,
   "metadata": {},
   "outputs": [
    {
     "name": "stdout",
     "output_type": "stream",
     "text": [
      "<class 'pandas.core.frame.DataFrame'>\n",
      "RangeIndex: 2000 entries, 0 to 1999\n",
      "Data columns (total 10 columns):\n",
      "Unnamed: 0           2000 non-null int64\n",
      "formatted_address    2000 non-null object\n",
      "latitude             2000 non-null float64\n",
      "longitude            2000 non-null float64\n",
      "postcode             2000 non-null object\n",
      "Floors               2000 non-null float64\n",
      "Units                1842 non-null float64\n",
      "Construction Year    1986 non-null float64\n",
      "Type                 2000 non-null object\n",
      "Area                 2000 non-null float64\n",
      "dtypes: float64(6), int64(1), object(3)\n",
      "memory usage: 156.4+ KB\n"
     ]
    }
   ],
   "source": [
    "df_1.info()"
   ]
  },
  {
   "cell_type": "code",
   "execution_count": 143,
   "metadata": {},
   "outputs": [],
   "source": [
    "df = pd.concat([df_1, df_2], sort=False)\n",
    "df.drop(columns=['Unnamed: 0'], inplace=True)"
   ]
  },
  {
   "cell_type": "code",
   "execution_count": 192,
   "metadata": {},
   "outputs": [],
   "source": [
    "df = pd.read_csv('all_dataset_heightest_1.csv')\n",
    "df.drop(columns=['Unnamed: 0', 'Unnamed: 0.1'], inplace=True)"
   ]
  },
  {
   "cell_type": "code",
   "execution_count": 193,
   "metadata": {},
   "outputs": [
    {
     "data": {
      "text/html": [
       "<div>\n",
       "<style scoped>\n",
       "    .dataframe tbody tr th:only-of-type {\n",
       "        vertical-align: middle;\n",
       "    }\n",
       "\n",
       "    .dataframe tbody tr th {\n",
       "        vertical-align: top;\n",
       "    }\n",
       "\n",
       "    .dataframe thead th {\n",
       "        text-align: right;\n",
       "    }\n",
       "</style>\n",
       "<table border=\"1\" class=\"dataframe\">\n",
       "  <thead>\n",
       "    <tr style=\"text-align: right;\">\n",
       "      <th></th>\n",
       "      <th>Area</th>\n",
       "      <th>Construction Year</th>\n",
       "      <th>Floors</th>\n",
       "      <th>Type</th>\n",
       "      <th>Units</th>\n",
       "      <th>formatted_address</th>\n",
       "      <th>latitude</th>\n",
       "      <th>longitude</th>\n",
       "      <th>postcode</th>\n",
       "      <th>Height</th>\n",
       "    </tr>\n",
       "  </thead>\n",
       "  <tbody>\n",
       "    <tr>\n",
       "      <td>0</td>\n",
       "      <td>598.0</td>\n",
       "      <td>1880.0</td>\n",
       "      <td>4.0</td>\n",
       "      <td>Residential</td>\n",
       "      <td>8.0</td>\n",
       "      <td>215 Rue de la Commune O, Montréal, QC H2Y 3W8,...</td>\n",
       "      <td>45.501999</td>\n",
       "      <td>-73.553966</td>\n",
       "      <td>H2Y 3W8</td>\n",
       "      <td>30.0</td>\n",
       "    </tr>\n",
       "    <tr>\n",
       "      <td>1</td>\n",
       "      <td>2041.0</td>\n",
       "      <td>1861.0</td>\n",
       "      <td>11.0</td>\n",
       "      <td>Office</td>\n",
       "      <td>NaN</td>\n",
       "      <td>1015 Rue St-Alexandre, Montréal, QC H2Z 1N9, C...</td>\n",
       "      <td>45.503052</td>\n",
       "      <td>-73.562862</td>\n",
       "      <td>H2Z 1N9</td>\n",
       "      <td>110.0</td>\n",
       "    </tr>\n",
       "    <tr>\n",
       "      <td>2</td>\n",
       "      <td>378.0</td>\n",
       "      <td>1967.0</td>\n",
       "      <td>5.0</td>\n",
       "      <td>Residential</td>\n",
       "      <td>8.0</td>\n",
       "      <td>221 Rue de la Commune O, Montréal, QC H2Y 2C9,...</td>\n",
       "      <td>45.501829</td>\n",
       "      <td>-73.553948</td>\n",
       "      <td>H2Y 2C9</td>\n",
       "      <td>37.5</td>\n",
       "    </tr>\n",
       "    <tr>\n",
       "      <td>3</td>\n",
       "      <td>681.0</td>\n",
       "      <td>1885.0</td>\n",
       "      <td>3.0</td>\n",
       "      <td>Office</td>\n",
       "      <td>NaN</td>\n",
       "      <td>321 Rue de la Commune O, Montréal, QC H2Y 2E1,...</td>\n",
       "      <td>45.500698</td>\n",
       "      <td>-73.553653</td>\n",
       "      <td>H2Y 2E1</td>\n",
       "      <td>30.0</td>\n",
       "    </tr>\n",
       "    <tr>\n",
       "      <td>4</td>\n",
       "      <td>344.0</td>\n",
       "      <td>1925.0</td>\n",
       "      <td>5.0</td>\n",
       "      <td>Residential</td>\n",
       "      <td>8.0</td>\n",
       "      <td>1101 Rue St-Alexandre, Montréal, QC H2Z 1P8, C...</td>\n",
       "      <td>45.504124</td>\n",
       "      <td>-73.564819</td>\n",
       "      <td>H2Z 1P8</td>\n",
       "      <td>37.5</td>\n",
       "    </tr>\n",
       "  </tbody>\n",
       "</table>\n",
       "</div>"
      ],
      "text/plain": [
       "     Area  Construction Year  Floors         Type  Units  \\\n",
       "0   598.0             1880.0     4.0  Residential    8.0   \n",
       "1  2041.0             1861.0    11.0       Office    NaN   \n",
       "2   378.0             1967.0     5.0  Residential    8.0   \n",
       "3   681.0             1885.0     3.0       Office    NaN   \n",
       "4   344.0             1925.0     5.0  Residential    8.0   \n",
       "\n",
       "                                   formatted_address   latitude  longitude  \\\n",
       "0  215 Rue de la Commune O, Montréal, QC H2Y 3W8,...  45.501999 -73.553966   \n",
       "1  1015 Rue St-Alexandre, Montréal, QC H2Z 1N9, C...  45.503052 -73.562862   \n",
       "2  221 Rue de la Commune O, Montréal, QC H2Y 2C9,...  45.501829 -73.553948   \n",
       "3  321 Rue de la Commune O, Montréal, QC H2Y 2E1,...  45.500698 -73.553653   \n",
       "4  1101 Rue St-Alexandre, Montréal, QC H2Z 1P8, C...  45.504124 -73.564819   \n",
       "\n",
       "  postcode Height  \n",
       "0  H2Y 3W8   30.0  \n",
       "1  H2Z 1N9  110.0  \n",
       "2  H2Y 2C9   37.5  \n",
       "3  H2Y 2E1   30.0  \n",
       "4  H2Z 1P8   37.5  "
      ]
     },
     "execution_count": 193,
     "metadata": {},
     "output_type": "execute_result"
    }
   ],
   "source": [
    "df.head()"
   ]
  },
  {
   "cell_type": "code",
   "execution_count": 194,
   "metadata": {},
   "outputs": [
    {
     "name": "stdout",
     "output_type": "stream",
     "text": [
      "<class 'pandas.core.frame.DataFrame'>\n",
      "RangeIndex: 3155 entries, 0 to 3154\n",
      "Data columns (total 10 columns):\n",
      "Area                 2119 non-null float64\n",
      "Construction Year    2577 non-null float64\n",
      "Floors               2600 non-null float64\n",
      "Type                 3155 non-null object\n",
      "Units                1842 non-null float64\n",
      "formatted_address    2619 non-null object\n",
      "latitude             3155 non-null float64\n",
      "longitude            3155 non-null float64\n",
      "postcode             2612 non-null object\n",
      "Height               3144 non-null object\n",
      "dtypes: float64(6), object(4)\n",
      "memory usage: 246.6+ KB\n"
     ]
    }
   ],
   "source": [
    "df.info()"
   ]
  },
  {
   "cell_type": "code",
   "execution_count": 195,
   "metadata": {},
   "outputs": [],
   "source": [
    "df['Type'] = df['Type'].apply(lambda x: 'residential' if 'residential' in str(x).lower() else 'commercial' if 'office' in str(x).lower() else x)"
   ]
  },
  {
   "cell_type": "code",
   "execution_count": 200,
   "metadata": {},
   "outputs": [],
   "source": [
    "df1 = df[df['Type'].notnull()]\n",
    "df1 = df1[df1['Construction Year'].notnull()]\n",
    "df1 = df1[df1['Units'].notnull()]\n",
    "# df1.drop(columns=['Height'], inplace=True)"
   ]
  },
  {
   "cell_type": "code",
   "execution_count": 201,
   "metadata": {},
   "outputs": [
    {
     "name": "stdout",
     "output_type": "stream",
     "text": [
      "<class 'pandas.core.frame.DataFrame'>\n",
      "Int64Index: 1828 entries, 0 to 1999\n",
      "Data columns (total 10 columns):\n",
      "Area                 1828 non-null float64\n",
      "Construction Year    1828 non-null float64\n",
      "Floors               1828 non-null float64\n",
      "Type                 1828 non-null object\n",
      "Units                1828 non-null float64\n",
      "formatted_address    1828 non-null object\n",
      "latitude             1828 non-null float64\n",
      "longitude            1828 non-null float64\n",
      "postcode             1828 non-null object\n",
      "Height               1828 non-null object\n",
      "dtypes: float64(6), object(4)\n",
      "memory usage: 157.1+ KB\n"
     ]
    }
   ],
   "source": [
    "df1.info()"
   ]
  },
  {
   "cell_type": "code",
   "execution_count": 202,
   "metadata": {},
   "outputs": [
    {
     "data": {
      "text/html": [
       "<div>\n",
       "<style scoped>\n",
       "    .dataframe tbody tr th:only-of-type {\n",
       "        vertical-align: middle;\n",
       "    }\n",
       "\n",
       "    .dataframe tbody tr th {\n",
       "        vertical-align: top;\n",
       "    }\n",
       "\n",
       "    .dataframe thead th {\n",
       "        text-align: right;\n",
       "    }\n",
       "</style>\n",
       "<table border=\"1\" class=\"dataframe\">\n",
       "  <thead>\n",
       "    <tr style=\"text-align: right;\">\n",
       "      <th></th>\n",
       "      <th>Area</th>\n",
       "      <th>Construction Year</th>\n",
       "      <th>Floors</th>\n",
       "      <th>Type</th>\n",
       "      <th>Units</th>\n",
       "      <th>formatted_address</th>\n",
       "      <th>latitude</th>\n",
       "      <th>longitude</th>\n",
       "      <th>postcode</th>\n",
       "      <th>Height</th>\n",
       "    </tr>\n",
       "  </thead>\n",
       "  <tbody>\n",
       "    <tr>\n",
       "      <td>0</td>\n",
       "      <td>598.0</td>\n",
       "      <td>1880.0</td>\n",
       "      <td>4.0</td>\n",
       "      <td>residential</td>\n",
       "      <td>8.0</td>\n",
       "      <td>215 Rue de la Commune O, Montréal, QC H2Y 3W8,...</td>\n",
       "      <td>45.501999</td>\n",
       "      <td>-73.553966</td>\n",
       "      <td>H2Y 3W8</td>\n",
       "      <td>30.0</td>\n",
       "    </tr>\n",
       "    <tr>\n",
       "      <td>2</td>\n",
       "      <td>378.0</td>\n",
       "      <td>1967.0</td>\n",
       "      <td>5.0</td>\n",
       "      <td>residential</td>\n",
       "      <td>8.0</td>\n",
       "      <td>221 Rue de la Commune O, Montréal, QC H2Y 2C9,...</td>\n",
       "      <td>45.501829</td>\n",
       "      <td>-73.553948</td>\n",
       "      <td>H2Y 2C9</td>\n",
       "      <td>37.5</td>\n",
       "    </tr>\n",
       "    <tr>\n",
       "      <td>4</td>\n",
       "      <td>344.0</td>\n",
       "      <td>1925.0</td>\n",
       "      <td>5.0</td>\n",
       "      <td>residential</td>\n",
       "      <td>8.0</td>\n",
       "      <td>1101 Rue St-Alexandre, Montréal, QC H2Z 1P8, C...</td>\n",
       "      <td>45.504124</td>\n",
       "      <td>-73.564819</td>\n",
       "      <td>H2Z 1P8</td>\n",
       "      <td>37.5</td>\n",
       "    </tr>\n",
       "    <tr>\n",
       "      <td>8</td>\n",
       "      <td>187.0</td>\n",
       "      <td>1832.0</td>\n",
       "      <td>2.0</td>\n",
       "      <td>residential</td>\n",
       "      <td>1.0</td>\n",
       "      <td>131 Rue du Port, Montréal, QC H2Y 2N9, Canada</td>\n",
       "      <td>45.501861</td>\n",
       "      <td>-73.554396</td>\n",
       "      <td>H2Y 2N9</td>\n",
       "      <td>15.0</td>\n",
       "    </tr>\n",
       "    <tr>\n",
       "      <td>11</td>\n",
       "      <td>439.0</td>\n",
       "      <td>1900.0</td>\n",
       "      <td>4.0</td>\n",
       "      <td>residential</td>\n",
       "      <td>5.0</td>\n",
       "      <td>371 Rue Dowd, Montréal, QC H2Z 1B6, Canada</td>\n",
       "      <td>45.504475</td>\n",
       "      <td>-73.564018</td>\n",
       "      <td>H2Z 1B6</td>\n",
       "      <td>30.0</td>\n",
       "    </tr>\n",
       "  </tbody>\n",
       "</table>\n",
       "</div>"
      ],
      "text/plain": [
       "     Area  Construction Year  Floors         Type  Units  \\\n",
       "0   598.0             1880.0     4.0  residential    8.0   \n",
       "2   378.0             1967.0     5.0  residential    8.0   \n",
       "4   344.0             1925.0     5.0  residential    8.0   \n",
       "8   187.0             1832.0     2.0  residential    1.0   \n",
       "11  439.0             1900.0     4.0  residential    5.0   \n",
       "\n",
       "                                    formatted_address   latitude  longitude  \\\n",
       "0   215 Rue de la Commune O, Montréal, QC H2Y 3W8,...  45.501999 -73.553966   \n",
       "2   221 Rue de la Commune O, Montréal, QC H2Y 2C9,...  45.501829 -73.553948   \n",
       "4   1101 Rue St-Alexandre, Montréal, QC H2Z 1P8, C...  45.504124 -73.564819   \n",
       "8       131 Rue du Port, Montréal, QC H2Y 2N9, Canada  45.501861 -73.554396   \n",
       "11         371 Rue Dowd, Montréal, QC H2Z 1B6, Canada  45.504475 -73.564018   \n",
       "\n",
       "   postcode Height  \n",
       "0   H2Y 3W8   30.0  \n",
       "2   H2Y 2C9   37.5  \n",
       "4   H2Z 1P8   37.5  \n",
       "8   H2Y 2N9   15.0  \n",
       "11  H2Z 1B6   30.0  "
      ]
     },
     "execution_count": 202,
     "metadata": {},
     "output_type": "execute_result"
    }
   ],
   "source": [
    "df1.head()"
   ]
  },
  {
   "cell_type": "code",
   "execution_count": 203,
   "metadata": {},
   "outputs": [],
   "source": [
    "# # df1.hist(column=['postcode'])\n",
    "# a = df1['postcode']\n",
    "# letter_counts = Counter(a)\n",
    "# tmp_df = pd.DataFrame.from_dict(letter_counts, orient='index')\n",
    "# tmp_df.plot(kind='bar', )"
   ]
  },
  {
   "cell_type": "code",
   "execution_count": 204,
   "metadata": {},
   "outputs": [],
   "source": [
    "cols_to_keep = ['latitude','longitude', 'Units','Construction Year', 'Type', 'Area', 'Floors','Height']"
   ]
  },
  {
   "cell_type": "code",
   "execution_count": 212,
   "metadata": {},
   "outputs": [],
   "source": [
    "filtered_df = df1[cols_to_keep]\n",
    "filtered_df.reset_index(inplace=True, drop=True)"
   ]
  },
  {
   "cell_type": "code",
   "execution_count": 214,
   "metadata": {},
   "outputs": [
    {
     "name": "stdout",
     "output_type": "stream",
     "text": [
      "<class 'pandas.core.frame.DataFrame'>\n",
      "RangeIndex: 1828 entries, 0 to 1827\n",
      "Data columns (total 8 columns):\n",
      "latitude             1828 non-null float64\n",
      "longitude            1828 non-null float64\n",
      "Units                1828 non-null float64\n",
      "Construction Year    1828 non-null float64\n",
      "Type                 1828 non-null object\n",
      "Area                 1828 non-null float64\n",
      "Floors               1828 non-null float64\n",
      "Height               1828 non-null object\n",
      "dtypes: float64(6), object(2)\n",
      "memory usage: 114.4+ KB\n"
     ]
    }
   ],
   "source": [
    "filtered_df.info()"
   ]
  },
  {
   "cell_type": "code",
   "execution_count": 213,
   "metadata": {},
   "outputs": [
    {
     "data": {
      "text/html": [
       "<div>\n",
       "<style scoped>\n",
       "    .dataframe tbody tr th:only-of-type {\n",
       "        vertical-align: middle;\n",
       "    }\n",
       "\n",
       "    .dataframe tbody tr th {\n",
       "        vertical-align: top;\n",
       "    }\n",
       "\n",
       "    .dataframe thead th {\n",
       "        text-align: right;\n",
       "    }\n",
       "</style>\n",
       "<table border=\"1\" class=\"dataframe\">\n",
       "  <thead>\n",
       "    <tr style=\"text-align: right;\">\n",
       "      <th></th>\n",
       "      <th>latitude</th>\n",
       "      <th>longitude</th>\n",
       "      <th>Units</th>\n",
       "      <th>Construction Year</th>\n",
       "      <th>Type</th>\n",
       "      <th>Area</th>\n",
       "      <th>Floors</th>\n",
       "      <th>Height</th>\n",
       "    </tr>\n",
       "  </thead>\n",
       "  <tbody>\n",
       "    <tr>\n",
       "      <td>0</td>\n",
       "      <td>45.501999</td>\n",
       "      <td>-73.553966</td>\n",
       "      <td>8.0</td>\n",
       "      <td>1880.0</td>\n",
       "      <td>residential</td>\n",
       "      <td>598.0</td>\n",
       "      <td>4.0</td>\n",
       "      <td>30.0</td>\n",
       "    </tr>\n",
       "    <tr>\n",
       "      <td>1</td>\n",
       "      <td>45.501829</td>\n",
       "      <td>-73.553948</td>\n",
       "      <td>8.0</td>\n",
       "      <td>1967.0</td>\n",
       "      <td>residential</td>\n",
       "      <td>378.0</td>\n",
       "      <td>5.0</td>\n",
       "      <td>37.5</td>\n",
       "    </tr>\n",
       "    <tr>\n",
       "      <td>2</td>\n",
       "      <td>45.504124</td>\n",
       "      <td>-73.564819</td>\n",
       "      <td>8.0</td>\n",
       "      <td>1925.0</td>\n",
       "      <td>residential</td>\n",
       "      <td>344.0</td>\n",
       "      <td>5.0</td>\n",
       "      <td>37.5</td>\n",
       "    </tr>\n",
       "    <tr>\n",
       "      <td>3</td>\n",
       "      <td>45.501861</td>\n",
       "      <td>-73.554396</td>\n",
       "      <td>1.0</td>\n",
       "      <td>1832.0</td>\n",
       "      <td>residential</td>\n",
       "      <td>187.0</td>\n",
       "      <td>2.0</td>\n",
       "      <td>15.0</td>\n",
       "    </tr>\n",
       "    <tr>\n",
       "      <td>4</td>\n",
       "      <td>45.504475</td>\n",
       "      <td>-73.564018</td>\n",
       "      <td>5.0</td>\n",
       "      <td>1900.0</td>\n",
       "      <td>residential</td>\n",
       "      <td>439.0</td>\n",
       "      <td>4.0</td>\n",
       "      <td>30.0</td>\n",
       "    </tr>\n",
       "  </tbody>\n",
       "</table>\n",
       "</div>"
      ],
      "text/plain": [
       "    latitude  longitude  Units  Construction Year         Type   Area  Floors  \\\n",
       "0  45.501999 -73.553966    8.0             1880.0  residential  598.0     4.0   \n",
       "1  45.501829 -73.553948    8.0             1967.0  residential  378.0     5.0   \n",
       "2  45.504124 -73.564819    8.0             1925.0  residential  344.0     5.0   \n",
       "3  45.501861 -73.554396    1.0             1832.0  residential  187.0     2.0   \n",
       "4  45.504475 -73.564018    5.0             1900.0  residential  439.0     4.0   \n",
       "\n",
       "  Height  \n",
       "0   30.0  \n",
       "1   37.5  \n",
       "2   37.5  \n",
       "3   15.0  \n",
       "4   30.0  "
      ]
     },
     "execution_count": 213,
     "metadata": {},
     "output_type": "execute_result"
    }
   ],
   "source": [
    "filtered_df.head()"
   ]
  },
  {
   "cell_type": "code",
   "execution_count": 209,
   "metadata": {},
   "outputs": [],
   "source": [
    "filtered_df.to_csv(\"filtered.csv\", index=False)"
   ]
  },
  {
   "cell_type": "code",
   "execution_count": 210,
   "metadata": {},
   "outputs": [
    {
     "data": {
      "text/plain": [
       "array(['residential', 'Commercial'], dtype=object)"
      ]
     },
     "execution_count": 210,
     "metadata": {},
     "output_type": "execute_result"
    }
   ],
   "source": [
    "filtered_df['Type'].unique()"
   ]
  },
  {
   "cell_type": "code",
   "execution_count": 211,
   "metadata": {},
   "outputs": [
    {
     "data": {
      "text/html": [
       "<div>\n",
       "<style scoped>\n",
       "    .dataframe tbody tr th:only-of-type {\n",
       "        vertical-align: middle;\n",
       "    }\n",
       "\n",
       "    .dataframe tbody tr th {\n",
       "        vertical-align: top;\n",
       "    }\n",
       "\n",
       "    .dataframe thead th {\n",
       "        text-align: right;\n",
       "    }\n",
       "</style>\n",
       "<table border=\"1\" class=\"dataframe\">\n",
       "  <thead>\n",
       "    <tr style=\"text-align: right;\">\n",
       "      <th></th>\n",
       "      <th>latitude</th>\n",
       "      <th>longitude</th>\n",
       "      <th>Units</th>\n",
       "      <th>Construction Year</th>\n",
       "      <th>Area</th>\n",
       "      <th>Floors</th>\n",
       "    </tr>\n",
       "  </thead>\n",
       "  <tbody>\n",
       "    <tr>\n",
       "      <td>count</td>\n",
       "      <td>1828.000000</td>\n",
       "      <td>1828.000000</td>\n",
       "      <td>1828.000000</td>\n",
       "      <td>1828.000000</td>\n",
       "      <td>1828.000000</td>\n",
       "      <td>1828.000000</td>\n",
       "    </tr>\n",
       "    <tr>\n",
       "      <td>mean</td>\n",
       "      <td>45.510088</td>\n",
       "      <td>-73.578899</td>\n",
       "      <td>5.774617</td>\n",
       "      <td>1920.292670</td>\n",
       "      <td>298.315098</td>\n",
       "      <td>2.481400</td>\n",
       "    </tr>\n",
       "    <tr>\n",
       "      <td>std</td>\n",
       "      <td>0.012526</td>\n",
       "      <td>0.011593</td>\n",
       "      <td>35.810554</td>\n",
       "      <td>37.147736</td>\n",
       "      <td>2510.795005</td>\n",
       "      <td>1.783026</td>\n",
       "    </tr>\n",
       "    <tr>\n",
       "      <td>min</td>\n",
       "      <td>45.481468</td>\n",
       "      <td>-73.596046</td>\n",
       "      <td>1.000000</td>\n",
       "      <td>1830.000000</td>\n",
       "      <td>8.000000</td>\n",
       "      <td>1.000000</td>\n",
       "    </tr>\n",
       "    <tr>\n",
       "      <td>25%</td>\n",
       "      <td>45.499125</td>\n",
       "      <td>-73.588238</td>\n",
       "      <td>1.000000</td>\n",
       "      <td>1900.000000</td>\n",
       "      <td>108.000000</td>\n",
       "      <td>2.000000</td>\n",
       "    </tr>\n",
       "    <tr>\n",
       "      <td>50%</td>\n",
       "      <td>45.515403</td>\n",
       "      <td>-73.583000</td>\n",
       "      <td>2.000000</td>\n",
       "      <td>1910.000000</td>\n",
       "      <td>189.000000</td>\n",
       "      <td>2.000000</td>\n",
       "    </tr>\n",
       "    <tr>\n",
       "      <td>75%</td>\n",
       "      <td>45.520330</td>\n",
       "      <td>-73.569229</td>\n",
       "      <td>3.000000</td>\n",
       "      <td>1947.750000</td>\n",
       "      <td>265.000000</td>\n",
       "      <td>3.000000</td>\n",
       "    </tr>\n",
       "    <tr>\n",
       "      <td>max</td>\n",
       "      <td>45.526096</td>\n",
       "      <td>-73.553165</td>\n",
       "      <td>1351.000000</td>\n",
       "      <td>2015.000000</td>\n",
       "      <td>106022.000000</td>\n",
       "      <td>33.000000</td>\n",
       "    </tr>\n",
       "  </tbody>\n",
       "</table>\n",
       "</div>"
      ],
      "text/plain": [
       "          latitude    longitude        Units  Construction Year  \\\n",
       "count  1828.000000  1828.000000  1828.000000        1828.000000   \n",
       "mean     45.510088   -73.578899     5.774617        1920.292670   \n",
       "std       0.012526     0.011593    35.810554          37.147736   \n",
       "min      45.481468   -73.596046     1.000000        1830.000000   \n",
       "25%      45.499125   -73.588238     1.000000        1900.000000   \n",
       "50%      45.515403   -73.583000     2.000000        1910.000000   \n",
       "75%      45.520330   -73.569229     3.000000        1947.750000   \n",
       "max      45.526096   -73.553165  1351.000000        2015.000000   \n",
       "\n",
       "                Area       Floors  \n",
       "count    1828.000000  1828.000000  \n",
       "mean      298.315098     2.481400  \n",
       "std      2510.795005     1.783026  \n",
       "min         8.000000     1.000000  \n",
       "25%       108.000000     2.000000  \n",
       "50%       189.000000     2.000000  \n",
       "75%       265.000000     3.000000  \n",
       "max    106022.000000    33.000000  "
      ]
     },
     "execution_count": 211,
     "metadata": {},
     "output_type": "execute_result"
    }
   ],
   "source": [
    "filtered_df.describe()"
   ]
  },
  {
   "cell_type": "code",
   "execution_count": 173,
   "metadata": {},
   "outputs": [],
   "source": [
    "import numpy as np\n",
    "from sklearn.preprocessing import LabelEncoder\n",
    "import random\n",
    "from sklearn.ensemble import RandomForestClassifier\n",
    "from sklearn.ensemble import GradientBoostingClassifier"
   ]
  },
  {
   "cell_type": "code",
   "execution_count": 186,
   "metadata": {},
   "outputs": [],
   "source": [
    "train = filtered_df.sample(frac=0.8,random_state=200) #random state is a seed value\n",
    "test = filtered_df.drop(train.index)\n",
    "\n",
    "cols = list(train.columns)\n",
    "cols.remove('Floors')\n",
    "train_y = train['Floors']\n",
    "train_x = train[cols]\n",
    "\n",
    "test_y = train['Floors']\n",
    "test_x = train[cols]"
   ]
  },
  {
   "cell_type": "code",
   "execution_count": null,
   "metadata": {},
   "outputs": [],
   "source": []
  }
 ],
 "metadata": {
  "kernelspec": {
   "display_name": "Python 3",
   "language": "python",
   "name": "python3"
  },
  "language_info": {
   "codemirror_mode": {
    "name": "ipython",
    "version": 3
   },
   "file_extension": ".py",
   "mimetype": "text/x-python",
   "name": "python",
   "nbconvert_exporter": "python",
   "pygments_lexer": "ipython3",
   "version": "3.6.9"
  }
 },
 "nbformat": 4,
 "nbformat_minor": 4
}
